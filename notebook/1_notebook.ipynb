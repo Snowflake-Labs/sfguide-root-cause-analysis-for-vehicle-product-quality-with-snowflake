{
 "cells": [
  {
   "cell_type": "markdown",
   "id": "57e1e705-d6ca-4139-aa6a-148bfa47d375",
   "metadata": {
    "collapsed": false,
    "name": "cell17",
    "resultHeight": 74
   },
   "source": [
    "# Data Loading for Vehicle Quality Root Cause Analysis (RCA)\n"
   ]
  },
  {
   "cell_type": "code",
   "execution_count": null,
   "id": "3775908f-ca36-4846-8f38-5adca39217f2",
   "metadata": {
    "collapsed": false,
    "language": "python",
    "name": "cell1",
    "resultHeight": 0
   },
   "outputs": [],
   "source": [
    "# Import python packages\n",
    "import streamlit as st\n",
    "import pandas as pd\n",
    "from datetime import datetime, timedelta\n",
    "\n",
    "# We can also use Snowpark for our analyses!\n",
    "from snowflake.snowpark.context import get_active_session\n",
    "session = get_active_session()\n",
    "import pprint\n",
    "\n",
    "# Add a query tag to the session.\n",
    "session.query_tag = {\"origin\":\"sf_sit-is\", \"name\":\"connected_mobility\", \"version\":{\"major\":1, \"minor\":0}}\n",
    "\n",
    "import snowflake.snowpark.functions as F\n",
    "from IPython.display import Markdown, display\n"
   ]
  },
  {
   "cell_type": "markdown",
   "id": "3ba36d57-f371-4839-b715-e894ce32a1d6",
   "metadata": {
    "collapsed": false,
    "name": "cell18",
    "resultHeight": 60
   },
   "source": [
    "## Fetch data staged in external stage"
   ]
  },
  {
   "cell_type": "code",
   "execution_count": null,
   "id": "8d50cbf4-0c8d-4950-86cb-114990437ac9",
   "metadata": {
    "collapsed": false,
    "language": "sql",
    "name": "cell2",
    "resultHeight": 438
   },
   "outputs": [],
   "source": [
    "-- Create csv format\n",
    "CREATE FILE FORMAT IF NOT EXISTS CSVFORMAT \n",
    "    SKIP_HEADER = 1 \n",
    "    TYPE = 'CSV';\n",
    "\n",
    "-- Create external stage with the csv format to stage the diamonds dataset\n",
    "CREATE or replace stage data_stage\n",
    "DIRECTORY = ( ENABLE = true )\n",
    "    FILE_FORMAT =  CSVFORMAT \n",
    "    URL = 's3://sfquickstarts/sfguide_root_cause_analysis_for_vehicle_product_quality_with_snowflake/';\n",
    "    \n",
    "-- Inspect content of stage\n",
    "LS @data_stage;\n"
   ]
  },
  {
   "cell_type": "markdown",
   "id": "8d033848-518d-4a47-9381-a7ff54ac4f0b",
   "metadata": {
    "collapsed": false,
    "name": "cell19",
    "resultHeight": 60
   },
   "source": [
    "## Quick view of the staged files"
   ]
  },
  {
   "cell_type": "code",
   "execution_count": null,
   "id": "3e5f90ea-28aa-48f2-bf82-675e25567d6f",
   "metadata": {
    "collapsed": false,
    "language": "sql",
    "name": "cell5",
    "resultHeight": 438
   },
   "outputs": [],
   "source": [
    "select * from directory(@data_stage);"
   ]
  },
  {
   "cell_type": "markdown",
   "id": "3d0491ee-b812-4ca6-9000-07b66107cd8b",
   "metadata": {
    "collapsed": false,
    "name": "cell20",
    "resultHeight": 60
   },
   "source": [
    "## Load the data into Snowflake table"
   ]
  },
  {
   "cell_type": "code",
   "execution_count": null,
   "id": "c695373e-ac74-4b62-a1f1-08206cbd5c81",
   "metadata": {
    "collapsed": false,
    "language": "python",
    "name": "cell3",
    "resultHeight": 0
   },
   "outputs": [],
   "source": [
    "file_path = \"@data_stage/BATTERY_COMPONENTS.csv\"\n",
    "\n",
    "# Read the specified CSV file\n",
    "BATTERY_COMPONENTS = session.read.options({\n",
    "    \"field_delimiter\": \",\",\n",
    "    \"field_optionally_enclosed_by\": '\"',\n",
    "    \"infer_schema\": True,\n",
    "    \"parse_header\": True\n",
    "}).csv(file_path)\n",
    "\n",
    "# Save the DataFrame as a table in Snowflake\n",
    "BATTERY_COMPONENTS.write.save_as_table(\"BATTERY_COMPONENTS\", mode=\"overwrite\")"
   ]
  },
  {
   "cell_type": "code",
   "execution_count": null,
   "id": "00823543-35be-4b50-9cd2-342da0d41019",
   "metadata": {
    "language": "python",
    "name": "cell4",
    "resultHeight": 0
   },
   "outputs": [],
   "source": [
    "file_path = \"@data_stage/BATTERY_SUPPLIER.csv\"\n",
    "\n",
    "# Read the specified CSV file\n",
    "BATTERY_SUPPLIER = session.read.options({\n",
    "    \"field_delimiter\": \",\",\n",
    "    \"field_optionally_enclosed_by\": '\"',\n",
    "    \"infer_schema\": True,\n",
    "    \"parse_header\": True\n",
    "}).csv(file_path)\n",
    "\n",
    "BATTERY_SUPPLIER.write.save_as_table(\"BATTERY_SUPPLIER\", mode=\"overwrite\") "
   ]
  },
  {
   "cell_type": "code",
   "execution_count": null,
   "id": "5383cf7c-2ce4-4042-b93e-ed3b61955ae4",
   "metadata": {
    "language": "python",
    "name": "cell6",
    "resultHeight": 0
   },
   "outputs": [],
   "source": [
    "file_path = \"@data_stage/BATTERY_TYPE.csv\"\n",
    "\n",
    "# Read the specified CSV file\n",
    "BATTERY_TYPE = session.read.options({\n",
    "    \"field_delimiter\": \",\",\n",
    "    \"field_optionally_enclosed_by\": '\"',\n",
    "    \"infer_schema\": True,\n",
    "    \"parse_header\": True\n",
    "}).csv(file_path)\n",
    "\n",
    "BATTERY_TYPE.write.save_as_table(\"BATTERY_TYPE\", mode=\"overwrite\") "
   ]
  },
  {
   "cell_type": "code",
   "execution_count": null,
   "id": "fe38c6ec-835d-4a6f-91d7-1344044256f4",
   "metadata": {
    "language": "python",
    "name": "cell7",
    "resultHeight": 0
   },
   "outputs": [],
   "source": [
    "file_path = \"@data_stage/DATE_VALUES_YEAR.csv\"\n",
    "\n",
    "# Read the specified CSV file\n",
    "DATE_VALUES_YEAR = session.read.options({\n",
    "    \"field_delimiter\": \",\",\n",
    "    \"field_optionally_enclosed_by\": '\"',\n",
    "    \"infer_schema\": True,\n",
    "    \"parse_header\": True\n",
    "}).csv(file_path)\n",
    "\n",
    "DATE_VALUES_YEAR.write.save_as_table(\"DATE_VALUES_YEAR\", mode=\"overwrite\") "
   ]
  },
  {
   "cell_type": "code",
   "execution_count": null,
   "id": "5a4f7f2a-16f7-414c-a317-a7f9afde32e1",
   "metadata": {
    "collapsed": false,
    "language": "python",
    "name": "cell8",
    "resultHeight": 0
   },
   "outputs": [],
   "source": [
    "file_path = \"@data_stage/DTC_BATTERY_ERROR_CODES.csv\"\n",
    "\n",
    "# Read the specified CSV file\n",
    "DTC_BATTERY_ERROR_CODES = session.read.options({\n",
    "    \"field_delimiter\": \",\",\n",
    "    \"field_optionally_enclosed_by\": '\"',\n",
    "    \"infer_schema\": True,\n",
    "    \"parse_header\": True\n",
    "}).csv(file_path)\n",
    "\n",
    "DTC_BATTERY_ERROR_CODES.write.save_as_table(\"DTC_BATTERY_ERROR_CODES\", mode=\"overwrite\") "
   ]
  },
  {
   "cell_type": "code",
   "execution_count": null,
   "id": "9f3b3d1f-7d33-4997-8df0-93803b105e28",
   "metadata": {
    "language": "python",
    "name": "cell9",
    "resultHeight": 0
   },
   "outputs": [],
   "source": [
    "file_path = \"@data_stage/PART_BATTERY.csv\"\n",
    "\n",
    "# Read the specified CSV file\n",
    "PART_BATTERY = session.read.options({\n",
    "    \"field_delimiter\": \",\",\n",
    "    \"field_optionally_enclosed_by\": '\"',\n",
    "    \"infer_schema\": True,\n",
    "    \"parse_header\": True\n",
    "}).csv(file_path)\n",
    "\n",
    "PART_BATTERY.write.save_as_table(\"PART_BATTERY\", mode=\"overwrite\") "
   ]
  },
  {
   "cell_type": "code",
   "execution_count": null,
   "id": "7166f6ba-cd2b-403f-9a57-443e86c9f946",
   "metadata": {
    "language": "python",
    "name": "cell10",
    "resultHeight": 0
   },
   "outputs": [],
   "source": [
    "file_path = \"@data_stage/STATES_AND_ABBREVIATIONS.csv\"\n",
    "\n",
    "# Read the specified CSV file\n",
    "STATES_AND_ABBREVIATIONS = session.read.options({\n",
    "    \"field_delimiter\": \",\",\n",
    "    \"field_optionally_enclosed_by\": '\"',\n",
    "    \"infer_schema\": True,\n",
    "    \"parse_header\": True\n",
    "}).csv(file_path)\n",
    "\n",
    "STATES_AND_ABBREVIATIONS.write.save_as_table(\"STATES_AND_ABBREVIATIONS\", mode=\"overwrite\") "
   ]
  },
  {
   "cell_type": "code",
   "execution_count": null,
   "id": "d1d3c4df-458a-496f-8397-ccdc677779d0",
   "metadata": {
    "language": "python",
    "name": "cell11",
    "resultHeight": 0
   },
   "outputs": [],
   "source": [
    "file_path = \"@data_stage/VEHICLES.csv\"\n",
    "\n",
    "# Read the specified CSV file\n",
    "VEHICLES = session.read.options({\n",
    "    \"field_delimiter\": \",\",\n",
    "    \"field_optionally_enclosed_by\": '\"',\n",
    "    \"infer_schema\": True,\n",
    "    \"parse_header\": True\n",
    "}).csv(file_path)\n",
    "\n",
    "VEHICLES.write.save_as_table(\"VEHICLES\", mode=\"overwrite\") "
   ]
  },
  {
   "cell_type": "code",
   "execution_count": null,
   "id": "987b7d37-d31b-42c2-9868-3c3d30db2e5f",
   "metadata": {
    "language": "python",
    "name": "cell12",
    "resultHeight": 0
   },
   "outputs": [],
   "source": [
    "file_path = \"@data_stage/VEHICLES_ZIPCODES_DISTANCES_DATES_WEATHER_DTC.csv\"\n",
    "\n",
    "# Read the specified CSV file\n",
    "VEHICLES_ZIPCODES_DISTANCES_DATES_WEATHER_DTC = session.read.options({\n",
    "    \"field_delimiter\": \",\",\n",
    "    \"field_optionally_enclosed_by\": '\"',\n",
    "    \"infer_schema\": True,\n",
    "    \"parse_header\": True\n",
    "}).csv(file_path)\n",
    "\n",
    "VEHICLES_ZIPCODES_DISTANCES_DATES_WEATHER_DTC.write.save_as_table(\"VEHICLES_ZIPCODES_DISTANCES_DATES_WEATHER_DTC\", mode=\"overwrite\") "
   ]
  },
  {
   "cell_type": "code",
   "execution_count": null,
   "id": "d889bbe0-52ce-4326-823c-ee4a2eaf6354",
   "metadata": {
    "collapsed": false,
    "language": "python",
    "name": "cell13",
    "resultHeight": 0
   },
   "outputs": [],
   "source": [
    "file_path = \"@data_stage/WEATHER_DATA.csv\"\n",
    "\n",
    "# Read the specified CSV file\n",
    "WEATHER_DATA = session.read.options({\n",
    "    \"field_delimiter\": \",\",\n",
    "    \"field_optionally_enclosed_by\": '\"',\n",
    "    \"infer_schema\": True,\n",
    "    \"parse_header\": True\n",
    "}).csv(file_path)\n",
    "\n",
    "WEATHER_DATA.write.save_as_table(\"WEATHER_DATA\", mode=\"overwrite\") "
   ]
  },
  {
   "cell_type": "code",
   "execution_count": null,
   "id": "0c12da4d-0fd0-4a97-b464-5b634702f567",
   "metadata": {
    "language": "python",
    "name": "cell14",
    "resultHeight": 0
   },
   "outputs": [],
   "source": [
    "file_path = \"@data_stage/ZIP_CODE_INFO.csv\"\n",
    "\n",
    "# Read the specified CSV file\n",
    "ZIP_CODE_INFO = session.read.options({\n",
    "    \"field_delimiter\": \",\",\n",
    "    \"field_optionally_enclosed_by\": '\"',\n",
    "    \"infer_schema\": True,\n",
    "    \"parse_header\": True\n",
    "}).csv(file_path)\n",
    "\n",
    "ZIP_CODE_INFO.write.save_as_table(\"ZIP_CODE_INFO\", mode=\"overwrite\") "
   ]
  },
  {
   "cell_type": "code",
   "execution_count": null,
   "id": "233409f0-c6b0-4b5a-85b3-9246a9793abc",
   "metadata": {
    "language": "python",
    "name": "cell15"
   },
   "outputs": [],
   "source": []
  },
  {
   "cell_type": "markdown",
   "id": "b0a6b3bf-b12b-434f-8860-3a7a4ad4bad1",
   "metadata": {
    "collapsed": false,
    "name": "cell16",
    "resultHeight": 60
   },
   "source": [
    "## End of Data Loading"
   ]
  }
 ],
 "metadata": {
  "kernelspec": {
   "display_name": "Streamlit Notebook",
   "name": "streamlit"
  }
 },
 "nbformat": 4,
 "nbformat_minor": 5
}
